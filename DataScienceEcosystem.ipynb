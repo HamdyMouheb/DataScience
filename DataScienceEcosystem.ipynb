{
 "cells": [
  {
   "cell_type": "markdown",
   "id": "5794bebc-7b4e-4fe7-a0fe-bf664d8366e6",
   "metadata": {},
   "source": [
    "# Data Science Tools and Ecosystem"
   ]
  },
  {
   "cell_type": "markdown",
   "id": "3ef2d6bf-071b-48ee-a7ef-e0967c1d5763",
   "metadata": {},
   "source": [
    "In this notebook, Data Science Tools and Ecosystem are summarized."
   ]
  },
  {
   "cell_type": "markdown",
   "id": "b7e126d3-a44c-4a0e-ac3b-b43edf147b77",
   "metadata": {
    "tags": []
   },
   "source": [
    "__Objectives :__\n",
    "\n",
    "+ list of popular data science language.\n",
    "+ list of popular data science libraries.\n",
    "+ table of popular data science tools.\n",
    "+ Samples of arithmetic expressions.\n"
   ]
  },
  {
   "cell_type": "markdown",
   "id": "bd4c13e2-e04d-4209-ad8d-c16891495251",
   "metadata": {
    "tags": []
   },
   "source": [
    "Some of the popular languages that Data Scientists use are:\n",
    "\n",
    "1. python\n",
    "2. R\n",
    "3. SQL languages\n",
    "4. C++\n",
    "5. Scala\n",
    "6. Java\n",
    "7. Julia"
   ]
  },
  {
   "cell_type": "markdown",
   "id": "c1e8a51f-7445-4b2a-b13b-94d652a42739",
   "metadata": {},
   "source": [
    "Some of the commonly used libraries used by Data Scientists include:\n",
    "\n",
    "1. Pandas \n",
    "2. NumPy\n",
    "3. Matplotlib\n",
    "4. Spark\n"
   ]
  },
  {
   "cell_type": "markdown",
   "id": "248a9064-d298-4be4-b7c9-c13d11dfe30f",
   "metadata": {
    "tags": []
   },
   "source": [
    "|Data Science Tools|\n",
    "|------------------|\n",
    "|MySQL|\n",
    "|Hadoop|\n",
    "|GitHub|"
   ]
  },
  {
   "cell_type": "markdown",
   "id": "901fddcd-6e0a-43c4-ae6e-f53bd84f13e2",
   "metadata": {},
   "source": [
    "### Below are a few examples of evaluating arithmetic expressions in Python."
   ]
  },
  {
   "cell_type": "code",
   "execution_count": 16,
   "id": "112fb50f-a5c5-4312-92f2-cf8d3eb2154c",
   "metadata": {
    "tags": []
   },
   "outputs": [
    {
     "data": {
      "text/plain": [
       "17"
      ]
     },
     "execution_count": 16,
     "metadata": {},
     "output_type": "execute_result"
    }
   ],
   "source": [
    "# This a simple arithmetic expression to mutiply then add integers.\n",
    "(3*4)+5"
   ]
  },
  {
   "cell_type": "code",
   "execution_count": 17,
   "id": "34464e76-ef3f-439b-8260-a0412a536557",
   "metadata": {
    "tags": []
   },
   "outputs": [
    {
     "name": "stdout",
     "output_type": "stream",
     "text": [
      "converting 200 Minutes to Hours =  3.3333333333333335\n"
     ]
    }
   ],
   "source": [
    "# This will convert 200 minutes to hours by diving by 60\n",
    "H = 60\n",
    "M = 200\n",
    "print(\"converting 200 Minutes to Hours = \", (M/H))\n"
   ]
  },
  {
   "cell_type": "markdown",
   "id": "6176042b-c588-4c7a-81b9-ed12680e52d8",
   "metadata": {},
   "source": [
    "## Author \n",
    "\n",
    "Hamdy Mouheb"
   ]
  },
  {
   "cell_type": "code",
   "execution_count": null,
   "id": "90ac500c-aab1-4b43-99dc-bc7c2fa46893",
   "metadata": {},
   "outputs": [],
   "source": []
  }
 ],
 "metadata": {
  "kernelspec": {
   "display_name": "Python",
   "language": "python",
   "name": "conda-env-python-py"
  },
  "language_info": {
   "codemirror_mode": {
    "name": "ipython",
    "version": 3
   },
   "file_extension": ".py",
   "mimetype": "text/x-python",
   "name": "python",
   "nbconvert_exporter": "python",
   "pygments_lexer": "ipython3",
   "version": "3.7.12"
  }
 },
 "nbformat": 4,
 "nbformat_minor": 5
}
